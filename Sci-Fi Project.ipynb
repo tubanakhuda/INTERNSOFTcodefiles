{
 "cells": [
  {
   "cell_type": "code",
   "execution_count": 1,
   "id": "a71a70f7",
   "metadata": {},
   "outputs": [],
   "source": [
    "#IMPORTING BUILT-IN LIBRARIES\n",
    "\n",
    "import os\n",
    "import time\n",
    "import subprocess\n",
    "import json"
   ]
  },
  {
   "cell_type": "code",
   "execution_count": 2,
   "id": "3283ebc5",
   "metadata": {},
   "outputs": [],
   "source": [
    "#IMPORTING LIBRARIES INSTALLED FROM ANACONDA PROMPT\n",
    "\n",
    "import wolframalpha\n",
    "import requests\n",
    "import webbrowser\n",
    "import wikipedia\n",
    "import datetime"
   ]
  },
  {
   "cell_type": "code",
   "execution_count": 3,
   "id": "ffc1d17e",
   "metadata": {},
   "outputs": [],
   "source": [
    "#LIBRARIES FOR NATURAL LANGUAGE PROCESSING AND SPEECH TO TEXT CONVERSION\n",
    "\n",
    "import speech_recognition as sr\n",
    "import pyttsx3"
   ]
  },
  {
   "cell_type": "code",
   "execution_count": 4,
   "id": "63026313",
   "metadata": {},
   "outputs": [
    {
     "name": "stdout",
     "output_type": "stream",
     "text": [
      "LOADING YOUR A.I PERSONAL ASSISTANT JARVIS\n"
     ]
    }
   ],
   "source": [
    "print('LOADING YOUR A.I PERSONAL ASSISTANT JARVIS')"
   ]
  },
  {
   "cell_type": "code",
   "execution_count": 5,
   "id": "26280294",
   "metadata": {},
   "outputs": [],
   "source": [
    "#INITITATING YOUR pyttsx3  ENFINE WITH SPEECH SYNTHESIZERS\n",
    "\n",
    "engine = pyttsx3.init('sapi5') #For windows, nss for mac\n",
    "voices = engine.getProperty('voices')\n",
    "engine.setProperty(\"voices\",'voices[0].id') #0 is man's voice and 1 is woman's voice"
   ]
  },
  {
   "cell_type": "code",
   "execution_count": 6,
   "id": "1514f9da",
   "metadata": {},
   "outputs": [],
   "source": [
    "#DEFINING A FUNCTION FOR SPEAKING A SENTENCE\n",
    "\n",
    "def speak(text):\n",
    "    engine.say(text)\n",
    "    engine.runAndWait()"
   ]
  },
  {
   "cell_type": "code",
   "execution_count": 7,
   "id": "8475feac",
   "metadata": {},
   "outputs": [],
   "source": [
    "#FUNTION TO GREET A HUMAN\n",
    "\n",
    "def wishMe():\n",
    "    hour = datetime.datetime.now().hour\n",
    "    if hour >= 0 and hour < 12:\n",
    "        speak(\"Hello, Good Morning, Ms.Tuba\")\n",
    "        print(\"Hello, Good Morning, Ms.Tuba\")\n",
    "    elif hour >= 12 and hour <= 18:\n",
    "        speak(\"Hello, Good Afternoon, Ms.Tuba\")\n",
    "        print(\"Hello, Good Afternoon, Ms.Tuba\")\n",
    "    else:\n",
    "        speak(\"It's already the night time better go to sleep\")\n",
    "        print(\"It's already the night time better go to sleep\")"
   ]
  },
  {
   "cell_type": "code",
   "execution_count": 8,
   "id": "9ec70a2f",
   "metadata": {},
   "outputs": [],
   "source": [
    "#FUNCTION USED TO TAKE COMMAND AS STATEMENTS FROM THE VOICE OF A HUMAN\n",
    "\n",
    "def takeCommand():\n",
    "    r = sr.Recognizer()\n",
    "    with sr.Microphone() as source:\n",
    "        print(\"I AM LISTENING\")\n",
    "        audio = r.listen(source)\n",
    "        \n",
    "        try:\n",
    "            statement = r.recognize_google(audio, language='en-in')\n",
    "            print(f\"user said:{statement}\\n\")\n",
    "            \n",
    "        except Exception as e:\n",
    "            speak(\"Pardon me, please say that again\")\n",
    "            return \"None\"\n",
    "        return statement"
   ]
  },
  {
   "cell_type": "code",
   "execution_count": 9,
   "id": "fb1721f6",
   "metadata": {},
   "outputs": [
    {
     "name": "stdout",
     "output_type": "stream",
     "text": [
      "Hello, Good Morning, Ms.Tuba\n"
     ]
    }
   ],
   "source": [
    "speak(\"LOADING YOUR PERSONAL A.I ASSISTANT JARVIS\")\n",
    "wishMe()"
   ]
  },
  {
   "cell_type": "code",
   "execution_count": null,
   "id": "d95dfe38",
   "metadata": {},
   "outputs": [],
   "source": [
    "#A SIMPLIFIED MAIN FUNCTION\n",
    "#Add your code block here to upgrade this personal assistant\n",
    "\n",
    "if __name__ == '__main__':\n",
    "    while True:\n",
    "        speak(\"How can I help you?\")\n",
    "        statement = takeCommand().lower()\n",
    "        if statement == 0:\n",
    "            continue\n",
    "        if \"good bye\" in statement or \"ok bye\" in statement or \"stop\" in statement:\n",
    "            speak(\"YOUR PERSONAL A.I ASSISTANT JARVIS IS SHUTTING DOWN, GOOD BYE\")\n",
    "            print(\"YOUR PERSONAL A.I ASSISTANT JARVIS IS SHUTTING DOWN, GOOD BYE\")\n",
    "            break\n",
    "        if 'wikipedia' in statement:\n",
    "            speak(\"searching wikipedia.....\")\n",
    "            #statement = statement.replace(\"wikipedia\",\" \")\n",
    "            results = wikipedia.summary(statement, sentences = 3)\n",
    "            speak(\"According to wikipedia.....\")\n",
    "            print(results)\n",
    "            speak(results)\n",
    "            \n",
    "        elif \"open youtube\" in statement:\n",
    "            webbrowser.open_new_tab(\"https://www.youtube.com/\")\n",
    "            speak(\"Youtube is open for you\")\n",
    "            time.sleep(5)\n",
    "            \n",
    "        elif \"open google\" in statement:\n",
    "            webbrowser.open_new_tab(\"https://www.google.com/\")\n",
    "            speak(\"Google search is open for you\")\n",
    "            time.sleep(5)\n",
    "            \n",
    "        elif  \"open gmail\" in statement:\n",
    "            webbrowser.open_new_tab(\"https://mail.google.com/mail/u/0/?ogbl\")\n",
    "            speak(\"Your Gmail is open for you\")\n",
    "            time.sleep(5)\n",
    "            \n",
    "            \n",
    "        elif \"weather\" in statement:\n",
    "            #api_key = \"8ef61edcf1c576d65d836254e11ea420\"\n",
    "            appid = \"ed4024456888d1de6c96356c4555199f\"\n",
    "            base_url = \"http://api.openweathermap.org/data/2.5/weather?\"\n",
    "            speak(\"What's your city name?\")\n",
    "            city_name = takeCommand()\n",
    "            complete_url = base_url+\"q=\"+city_name+\"&appid=\"+appid\n",
    "            #Give city name to the link and get the data\n",
    "            response = requests.get(complete_url)\n",
    "            x = response.json()\n",
    "            if x[\"cod\"] != \"404\":\n",
    "                y = x[\"main\"]\n",
    "                current_temperature = y[\"temp\"]\n",
    "                current_humidity = y[\"humidity\"]\n",
    "                z = x[\"weather\"]\n",
    "                weather_description = z[0][\"description\"]\n",
    "                speak(\"The temperature in kelvin units is\" +str(current_temperature) + \"\\n humidity in percentage is\" +str(current_humidity))\n",
    "                print(\"The temperature in kelvin units is\" +str(current_temperature) + \"\\n humidity in percentage is\" +str(current_humidity))\n",
    "            else:\n",
    "                speak(\"City not found\")\n",
    "                print(\"City not found\")\n",
    "        \n",
    "        elif \"time\" in statement:\n",
    "            strTime = datetime.datetime.now().strftime(\"%H:%M:%S\")\n",
    "            speak(f\"the time is {strTime}\")\n",
    "            \n",
    "        elif \"who are you\" in statement or \"what can you do\" in statement:\n",
    "            speak(\"I am JARVIS version 1 point 0 your personal assistant. I am programmed to minor tasks like\") \n",
    "            speak(\"opening youtube, google chrome, gmail and stack overflow, predict time, take a photo, search wikipedia,\")\n",
    "            speak(\"predit weather in different cities, get top headline news from Times of India\")\n",
    "            speak(\"and you can ask me computational or geographical questions too!\")\n",
    "              \n",
    "        elif \"who made you\" in statement or \"who created you\" in statement or \"who discovered you\" in statement:\n",
    "              speak(\"I WAS BUILT BY AiRobsoft\")\n",
    "              print(\"I WAS BUILT BY AiRobosoft\")\n",
    "              \n",
    "            \n",
    "        elif \"open stack over flow\" in statement:\n",
    "            webbrowser.open_new_tab(\"https://stackoverflow.com/\")\n",
    "            speak(\"Stack over flow is open for you\")\n",
    "            time.sleep(5)\n",
    "              \n",
    "        elif \"news\" in statement:\n",
    "            webbrowser.open_new_tab(\"https://timesofindia.indiatimes.com/defaultinterstitial.cms\")\n",
    "            speak(\"Here are some headlines for you from times of india - happy reading\")\n",
    "            time.sleep(7)\n",
    "              \n",
    "        elif \"search\" in statement:\n",
    "            statement = statement.replace(\"search\",\" \")\n",
    "            webbrowser.open_new_tab(statement)\n",
    "            time.sleep(5)\n",
    "              \n",
    "              \n",
    "        elif \"ask\" in statement or \"question\" in statement:\n",
    "              speak(\"I can answer to computational and geographical questions too, just try me! What do you want to ask?\")\n",
    "              questions = takeCommand()\n",
    "              app_id = \"R2K75H-7ELALHR35X\"\n",
    "              client = wolframalpha.Client('R2K75H-7ELALHR35X')\n",
    "              res = client.query(questions)\n",
    "              answer = next(res.results).text\n",
    "              speak(answer)\n",
    "              print(answer)\n",
    "              \n",
    "        elif \"log off\" in statement or \"sign out\" in statement or \"shut down\" in statement:\n",
    "              speak(\"Ok, Your PC will shut down in 10 seconds - make sure you have saved and exit from all applications\")\n",
    "              subprocess.call(['shutdown',\"/l\"])\n",
    "              \n",
    "time.sleep(3)\n",
    "              "
   ]
  },
  {
   "cell_type": "code",
   "execution_count": null,
   "id": "17144ede",
   "metadata": {},
   "outputs": [],
   "source": []
  }
 ],
 "metadata": {
  "kernelspec": {
   "display_name": "Python 3",
   "language": "python",
   "name": "python3"
  },
  "language_info": {
   "codemirror_mode": {
    "name": "ipython",
    "version": 3
   },
   "file_extension": ".py",
   "mimetype": "text/x-python",
   "name": "python",
   "nbconvert_exporter": "python",
   "pygments_lexer": "ipython3",
   "version": "3.8.8"
  }
 },
 "nbformat": 4,
 "nbformat_minor": 5
}
